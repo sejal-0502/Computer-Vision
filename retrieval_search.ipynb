{
 "cells": [
  {
   "cell_type": "markdown",
   "id": "667ad0ee",
   "metadata": {},
   "source": [
    "# Retrieval visualization"
   ]
  },
  {
   "cell_type": "code",
   "execution_count": null,
   "id": "6a5d5148",
   "metadata": {
    "ExecuteTime": {
     "end_time": "2023-04-29T12:54:26.723033Z",
     "start_time": "2023-04-29T12:54:24.079591Z"
    }
   },
   "outputs": [],
   "source": [
    "import logging\n",
    "from pathlib import Path\n",
    "\n",
    "import numpy as np\n",
    "import torch\n",
    "from PIL import Image\n",
    "from torch.utils.data import DataLoader\n",
    "\n",
    "import paths\n",
    "from datasets.voc12 import VOCDataset, create_image_only_transforms\n",
    "from models.blip.blip_config import BlipConfig\n",
    "from models.blip.blip_retrieval import BlipRetrieval\n",
    "from models.preprocessing.preprocess import get_processors\n",
    "from utils.logger import setup_logger"
   ]
  },
  {
   "cell_type": "code",
   "execution_count": null,
   "id": "28af3889",
   "metadata": {
    "ExecuteTime": {
     "end_time": "2023-04-29T12:54:31.072591Z",
     "start_time": "2023-04-29T12:54:26.726034Z"
    }
   },
   "outputs": [],
   "source": [
    "# setup model for validation\n",
    "setup_logger(level=logging.INFO)\n",
    "\n",
    "use_cuda = torch.cuda.is_available()\n",
    "device = torch.device(\"cuda\" if use_cuda else \"cpu\")\n",
    "logging.info(f\"Running on device: {device}, cuda available: {torch.cuda.is_available()}\")\n",
    "\n",
    "model_cfg = BlipConfig()\n",
    "model = BlipRetrieval.from_config(model_cfg)\n",
    "logging.info(f\"Created model {type(model).__name__} with {model.show_n_params()} parameters.\")\n",
    "model.load_checkpoint(Path(paths.CV_PATH_CKPT) / \"blip_model_base.pth\")\n",
    "# todo optionally overwrite this with your own checkpoint\n",
    "eval_ckpt = Path(paths.CV_PATH_CKPT) / \"blip_model_retrieval_head.pth\"\n",
    "model.load_retrieval_head(eval_ckpt)\n",
    "model = model.to(device)\n",
    "model.eval()\n",
    "pass\n"
   ]
  },
  {
   "cell_type": "code",
   "execution_count": null,
   "id": "f1455059",
   "metadata": {
    "ExecuteTime": {
     "end_time": "2023-04-29T12:54:31.136235Z",
     "start_time": "2023-04-29T12:54:31.074591Z"
    }
   },
   "outputs": [],
   "source": [
    "# setup dataset\n",
    "voc_path = Path(paths.CV_PATH_VOC)\n",
    "vis_processor_val, text_processor_val = get_processors(model_cfg, mode=\"eval\")\n",
    "dataset = VOCDataset(voc_path, voc_path / \"ImageSets\" / \"Segmentation\" / \"val.txt\",\n",
    "                     load_captions=True, transforms=create_image_only_transforms(vis_processor_val))\n"
   ]
  },
  {
   "cell_type": "code",
   "execution_count": null,
   "id": "2822c959",
   "metadata": {
    "ExecuteTime": {
     "end_time": "2023-04-29T12:54:31.270731Z",
     "start_time": "2023-04-29T12:54:31.137235Z"
    }
   },
   "outputs": [],
   "source": [
    "# setup code to show a datapoint\n",
    "def show_datapoint(n):\n",
    "    data = dataset[n]\n",
    "    # now data[\"image\"] is the tensor preprocessed for model input, get the file instead\n",
    "    image_file = dataset.files[n][\"img\"]\n",
    "    image_pil = Image.open(image_file)\n",
    "    display(image_pil)\n",
    "    print(f\"Name: {data['name']}\")\n",
    "    print(f\"Reference caption: {data['caption']}\")\n",
    "\n",
    "\n",
    "show_datapoint(0)"
   ]
  },
  {
   "cell_type": "code",
   "execution_count": null,
   "id": "08fda538",
   "metadata": {
    "ExecuteTime": {
     "end_time": "2023-04-29T12:55:39.996864Z",
     "start_time": "2023-04-29T12:54:31.270731Z"
    }
   },
   "outputs": [],
   "source": [
    "# collect image features for the dataset\n",
    "val_dataset = VOCDataset(\n",
    "    voc_path, voc_path / \"ImageSets\" / \"Segmentation\" / \"val.txt\", load_captions=True)\n",
    "dataloader = DataLoader(dataset, batch_size=16, shuffle=False,\n",
    "                        num_workers=0, drop_last=False)\n",
    "logging.info(f\"Collect image features\")\n",
    "\n",
    "image_feats, text_feats = [], []\n",
    "for i, batch in enumerate(dataloader):\n",
    "    if i % 10 == 0:\n",
    "        logging.info(f\"{i}/{len(dataloader)}\")    \n",
    "    image = batch[\"image\"].to(device)\n",
    "    with torch.no_grad():\n",
    "        image_feat = model.forward_image(image)\n",
    "        image_feats.append(image_feat.detach().cpu().numpy())\n",
    "image_feats = np.concatenate(image_feats, axis=0)\n"
   ]
  },
  {
   "cell_type": "markdown",
   "id": "6dfdbcc0",
   "metadata": {},
   "source": [
    "## Search the dataset via text-to-image retrieval"
   ]
  },
  {
   "cell_type": "code",
   "execution_count": null,
   "id": "04ee458e",
   "metadata": {
    "ExecuteTime": {
     "end_time": "2023-04-29T12:55:40.827638Z",
     "start_time": "2023-04-29T12:55:39.999864Z"
    }
   },
   "outputs": [],
   "source": [
    "# define search query\n",
    "caption = \"a picture of a plane\"\n",
    "print(f\"Search query: {caption}\")\n",
    "\n",
    "# get the text feature\n",
    "with torch.no_grad():\n",
    "    text_feat = model.forward_text([text_processor_val(caption)]).cpu().numpy()\n",
    "\n",
    "# compute similarity\n",
    "sim = (text_feat @ image_feats.T)[0]\n",
    "\n",
    "# show the top10 results\n",
    "top10 = np.argsort(-sim)[:10]\n",
    "for rank, i in enumerate(top10):\n",
    "    sim_here = sim[i]\n",
    "    show_datapoint(i)\n",
    "    print(f\"Rank {rank + 1} with similarity: {sim_here:.3f}\")"
   ]
  },
  {
   "cell_type": "code",
   "execution_count": null,
   "id": "cbb14457",
   "metadata": {
    "ExecuteTime": {
     "end_time": "2023-04-29T12:55:40.909674Z",
     "start_time": "2023-04-29T12:55:40.816036Z"
    }
   },
   "outputs": [],
   "source": []
  }
 ],
 "metadata": {
  "kernelspec": {
   "display_name": "Python 3 (ipykernel)",
   "language": "python",
   "name": "python3"
  },
  "language_info": {
   "codemirror_mode": {
    "name": "ipython",
    "version": 3
   },
   "file_extension": ".py",
   "mimetype": "text/x-python",
   "name": "python",
   "nbconvert_exporter": "python",
   "pygments_lexer": "ipython3",
   "version": "3.10.12"
  }
 },
 "nbformat": 4,
 "nbformat_minor": 5
}
